{
 "cells": [
  {
   "cell_type": "code",
   "execution_count": 1,
   "metadata": {},
   "outputs": [],
   "source": [
    "# generate xml file for unique id assignment\n",
    "\n",
    "width = 71\n",
    "height = 71\n",
    "\n",
    "xml = '''<?xml version=\"1.0\" standalone=\"no\"?>\n",
    "<vs>\n",
    "  <visuals>\n",
    "    <window size=\"1800x900\" backgroundColor=\"0xffffff\" gradientColor=\"0x00ffff\" />\n",
    "    <render shadows=\"1\" grid=\"1\" />\n",
    "  </visuals>\n",
    "  <myTag myVar=\"1\" />\n",
    "  <world gridSize=\"{},{},10\">\n",
    "    <blockList color=\"128,128,128\">'''.format(width, height)\n",
    "\n",
    "for i in range(width):\n",
    "    for j in range(height):\n",
    "        xml += '''\n",
    "      <block position=\"{},{},0\" />'''.format(i, j)\n",
    "\n",
    "xml += '''\n",
    "    </blockList>\n",
    "    </world>\n",
    "</vs>'''\n",
    "\n",
    "with open('square_5041.xml', 'w') as f:\n",
    "    f.write(xml)\n",
    "\n"
   ]
  },
  {
   "cell_type": "code",
   "execution_count": null,
   "metadata": {},
   "outputs": [],
   "source": []
  }
 ],
 "metadata": {
  "kernelspec": {
   "display_name": "Python 3.8.13 ('cudf_dev')",
   "language": "python",
   "name": "python3"
  },
  "language_info": {
   "codemirror_mode": {
    "name": "ipython",
    "version": 3
   },
   "file_extension": ".py",
   "mimetype": "text/x-python",
   "name": "python",
   "nbconvert_exporter": "python",
   "pygments_lexer": "ipython3",
   "version": "3.8.13"
  },
  "orig_nbformat": 4,
  "vscode": {
   "interpreter": {
    "hash": "e8ba1f54ee7c7bb218875bf04a99e69d7104d18474edd566fdc7bded2614f0fd"
   }
  }
 },
 "nbformat": 4,
 "nbformat_minor": 2
}
